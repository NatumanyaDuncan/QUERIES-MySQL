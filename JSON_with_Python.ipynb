{
  "nbformat": 4,
  "nbformat_minor": 0,
  "metadata": {
    "colab": {
      "provenance": [],
      "include_colab_link": true
    },
    "kernelspec": {
      "name": "python3",
      "display_name": "Python 3"
    },
    "language_info": {
      "name": "python"
    }
  },
  "cells": [
    {
      "cell_type": "markdown",
      "metadata": {
        "id": "view-in-github",
        "colab_type": "text"
      },
      "source": [
        "<a href=\"https://colab.research.google.com/github/NatumanyaDuncan/QUERIES-MySQL/blob/main/JSON_with_Python.ipynb\" target=\"_parent\"><img src=\"https://colab.research.google.com/assets/colab-badge.svg\" alt=\"Open In Colab\"/></a>"
      ]
    },
    {
      "cell_type": "markdown",
      "source": [
        "In python, JSON is represented using the dictionary data structure"
      ],
      "metadata": {
        "id": "jtZCw-wE9Zov"
      }
    },
    {
      "cell_type": "code",
      "execution_count": 1,
      "metadata": {
        "id": "JQgsgW1O9B03"
      },
      "outputs": [],
      "source": [
        "import json"
      ]
    },
    {
      "cell_type": "code",
      "source": [
        "## Saving a dictionary to a JSON file\n",
        "data = {'stack':4,\n",
        "        'week':2,\n",
        "        'things learned':['MySQL','MySQL WorkBench',\n",
        "                         'GitHub Desktop','Jupyter Notebooks','JSON' ]\n",
        "        }\n",
        "data"
      ],
      "metadata": {
        "colab": {
          "base_uri": "https://localhost:8080/"
        },
        "id": "ZQNF58OE98Yd",
        "outputId": "063a1625-26e5-4242-8afc-6002751cd975"
      },
      "execution_count": 2,
      "outputs": [
        {
          "output_type": "execute_result",
          "data": {
            "text/plain": [
              "{'stack': 4,\n",
              " 'week': 2,\n",
              " 'things learned': ['MySQL',\n",
              "  'MySQL WorkBench',\n",
              "  'GitHub Desktop',\n",
              "  'Jupyter Notebooks',\n",
              "  'JSON']}"
            ]
          },
          "metadata": {},
          "execution_count": 2
        }
      ]
    },
    {
      "cell_type": "code",
      "source": [
        "data['week']"
      ],
      "metadata": {
        "colab": {
          "base_uri": "https://localhost:8080/"
        },
        "id": "eqRvQyEAQZz3",
        "outputId": "726ce1e4-8754-44e2-a39d-7124cb0be435"
      },
      "execution_count": 3,
      "outputs": [
        {
          "output_type": "execute_result",
          "data": {
            "text/plain": [
              "2"
            ]
          },
          "metadata": {},
          "execution_count": 3
        }
      ]
    },
    {
      "cell_type": "markdown",
      "source": [
        "Saving to file: using \"with open\" to write to file ('w') and json.dump"
      ],
      "metadata": {
        "id": "Uy8Ra0lK-CWT"
      }
    },
    {
      "cell_type": "code",
      "source": [
        "## save dict to json file with json.dump\n",
        "with open('example_saved_data.json','w') as f:\n",
        "    json.dump(data, f)"
      ],
      "metadata": {
        "id": "RIaapPgo-Avt"
      },
      "execution_count": 4,
      "outputs": []
    },
    {
      "cell_type": "markdown",
      "source": [
        "Opening a file: using \"with open\" to read a file ('r') and json.load"
      ],
      "metadata": {
        "id": "SClZSmZQ-HIY"
      }
    },
    {
      "cell_type": "code",
      "source": [
        "## Load saved json file back to dictionary\n",
        "with open('example_saved_data.json') as f:\n",
        "    loaded = json.load(f)\n",
        "\n",
        "# Show loaded filed\n",
        "loaded"
      ],
      "metadata": {
        "colab": {
          "base_uri": "https://localhost:8080/"
        },
        "id": "Iv8YDUOb-Gt5",
        "outputId": "53fe20ce-899c-49ba-f091-4157801d7be3"
      },
      "execution_count": 5,
      "outputs": [
        {
          "output_type": "execute_result",
          "data": {
            "text/plain": [
              "{'stack': 4,\n",
              " 'week': 2,\n",
              " 'things learned': ['MySQL',\n",
              "  'MySQL WorkBench',\n",
              "  'GitHub Desktop',\n",
              "  'Jupyter Notebooks',\n",
              "  'JSON']}"
            ]
          },
          "metadata": {},
          "execution_count": 5
        }
      ]
    },
    {
      "cell_type": "markdown",
      "source": [
        "We shall use [this](https://drive.google.com/file/d/17bhMGDxPA1QG9XxzZpAChpdm5KaB1ZD4/view?usp=sharing) json file for the examples below"
      ],
      "metadata": {
        "id": "t9qqxtzO9TZI"
      }
    },
    {
      "cell_type": "code",
      "source": [
        "# Openning file\n",
        "with open('example_yelp_results.json') as f:   #adjust for your path\n",
        "    json_file = json.load(f)\n",
        "\n",
        "## What type is top-level of json?\n",
        "type(json_file)"
      ],
      "metadata": {
        "colab": {
          "base_uri": "https://localhost:8080/",
          "height": 245
        },
        "id": "5NwDKvlf9ZJL",
        "outputId": "3fd044ba-d1d6-4310-e292-f4b390ea6b81"
      },
      "execution_count": 6,
      "outputs": [
        {
          "output_type": "error",
          "ename": "FileNotFoundError",
          "evalue": "ignored",
          "traceback": [
            "\u001b[0;31m---------------------------------------------------------------------------\u001b[0m",
            "\u001b[0;31mFileNotFoundError\u001b[0m                         Traceback (most recent call last)",
            "\u001b[0;32m<ipython-input-6-9a0566fd29d4>\u001b[0m in \u001b[0;36m<cell line: 2>\u001b[0;34m()\u001b[0m\n\u001b[1;32m      1\u001b[0m \u001b[0;31m# Openning file\u001b[0m\u001b[0;34m\u001b[0m\u001b[0;34m\u001b[0m\u001b[0m\n\u001b[0;32m----> 2\u001b[0;31m \u001b[0;32mwith\u001b[0m \u001b[0mopen\u001b[0m\u001b[0;34m(\u001b[0m\u001b[0;34m'example_yelp_results.json'\u001b[0m\u001b[0;34m)\u001b[0m \u001b[0;32mas\u001b[0m \u001b[0mf\u001b[0m\u001b[0;34m:\u001b[0m   \u001b[0;31m#adjust for your path\u001b[0m\u001b[0;34m\u001b[0m\u001b[0;34m\u001b[0m\u001b[0m\n\u001b[0m\u001b[1;32m      3\u001b[0m     \u001b[0mjson_file\u001b[0m \u001b[0;34m=\u001b[0m \u001b[0mjson\u001b[0m\u001b[0;34m.\u001b[0m\u001b[0mload\u001b[0m\u001b[0;34m(\u001b[0m\u001b[0mf\u001b[0m\u001b[0;34m)\u001b[0m\u001b[0;34m\u001b[0m\u001b[0;34m\u001b[0m\u001b[0m\n\u001b[1;32m      4\u001b[0m \u001b[0;34m\u001b[0m\u001b[0m\n\u001b[1;32m      5\u001b[0m \u001b[0;31m## What type is top-level of json?\u001b[0m\u001b[0;34m\u001b[0m\u001b[0;34m\u001b[0m\u001b[0m\n",
            "\u001b[0;31mFileNotFoundError\u001b[0m: [Errno 2] No such file or directory: 'example_yelp_results.json'"
          ]
        }
      ]
    },
    {
      "cell_type": "code",
      "source": [
        "json_file"
      ],
      "metadata": {
        "colab": {
          "base_uri": "https://localhost:8080/"
        },
        "id": "PVVMG872SwkE",
        "outputId": "ec8fc5f2-a982-4a5b-d7b6-2c8dea88c700"
      },
      "execution_count": null,
      "outputs": [
        {
          "output_type": "execute_result",
          "data": {
            "text/plain": [
              "{'businesses': [{'id': 'D9A33FM394q99o4QtK5YwA',\n",
              "   'alias': 'faidleys-seafood-baltimore-3',\n",
              "   'name': 'Faidleys Seafood',\n",
              "   'image_url': 'https://s3-media3.fl.yelpcdn.com/bphoto/OTjVDCVS7pGopH6GZcfjBA/o.jpg',\n",
              "   'is_closed': False,\n",
              "   'url': 'https://www.yelp.com/biz/faidleys-seafood-baltimore-3?adjust_creative=KJtcufKUS887p24u6rjVIQ&utm_campaign=yelp_api_v3&utm_medium=api_v3_business_search&utm_source=KJtcufKUS887p24u6rjVIQ',\n",
              "   'review_count': 1184,\n",
              "   'categories': [{'alias': 'seafood', 'title': 'Seafood'},\n",
              "    {'alias': 'beerbar', 'title': 'Beer Bar'}],\n",
              "   'rating': 4.0,\n",
              "   'coordinates': {'latitude': 39.291696, 'longitude': -76.62224},\n",
              "   'transactions': ['delivery'],\n",
              "   'price': '$$',\n",
              "   'location': {'address1': '203 N Paca St',\n",
              "    'address2': '',\n",
              "    'address3': '',\n",
              "    'city': 'Baltimore',\n",
              "    'zip_code': '21201',\n",
              "    'country': 'US',\n",
              "    'state': 'MD',\n",
              "    'display_address': ['203 N Paca St', 'Baltimore, MD 21201']},\n",
              "   'phone': '+14107274898',\n",
              "   'display_phone': '(410) 727-4898',\n",
              "   'distance': 1349.560720156645},\n",
              "  {'id': 'u65W69AhbjUlvJJBkEhGNQ',\n",
              "   'alias': 'miss-shirleys-cafe-baltimore-9',\n",
              "   'name': \"Miss Shirley's Cafe\",\n",
              "   'image_url': 'https://s3-media4.fl.yelpcdn.com/bphoto/9FsOyVsg-MkdHlNR10xnqA/o.jpg',\n",
              "   'is_closed': False,\n",
              "   'url': 'https://www.yelp.com/biz/miss-shirleys-cafe-baltimore-9?adjust_creative=KJtcufKUS887p24u6rjVIQ&utm_campaign=yelp_api_v3&utm_medium=api_v3_business_search&utm_source=KJtcufKUS887p24u6rjVIQ',\n",
              "   'review_count': 2919,\n",
              "   'categories': [{'alias': 'breakfast_brunch', 'title': 'Breakfast & Brunch'},\n",
              "    {'alias': 'tradamerican', 'title': 'American (Traditional)'},\n",
              "    {'alias': 'cafes', 'title': 'Cafes'}],\n",
              "   'rating': 4.0,\n",
              "   'coordinates': {'latitude': 39.2870995, 'longitude': -76.6053657},\n",
              "   'transactions': ['delivery', 'pickup'],\n",
              "   'price': '$$',\n",
              "   'location': {'address1': '750 E Pratt St',\n",
              "    'address2': '',\n",
              "    'address3': '',\n",
              "    'city': 'Baltimore',\n",
              "    'zip_code': '21202',\n",
              "    'country': 'US',\n",
              "    'state': 'MD',\n",
              "    'display_address': ['750 E Pratt St', 'Baltimore, MD 21202']},\n",
              "   'phone': '+14105285373',\n",
              "   'display_phone': '(410) 528-5373',\n",
              "   'distance': 1028.7364679770458},\n",
              "  {'id': 'ieS_5zqxDHcWMCm8BKUYbg',\n",
              "   'alias': 'thames-street-oyster-house-baltimore',\n",
              "   'name': 'Thames Street Oyster House',\n",
              "   'image_url': 'https://s3-media1.fl.yelpcdn.com/bphoto/9hGjo5-sU6Tn7cXdeYalPg/o.jpg',\n",
              "   'is_closed': False,\n",
              "   'url': 'https://www.yelp.com/biz/thames-street-oyster-house-baltimore?adjust_creative=KJtcufKUS887p24u6rjVIQ&utm_campaign=yelp_api_v3&utm_medium=api_v3_business_search&utm_source=KJtcufKUS887p24u6rjVIQ',\n",
              "   'review_count': 2729,\n",
              "   'categories': [{'alias': 'seafood', 'title': 'Seafood'},\n",
              "    {'alias': 'raw_food', 'title': 'Live/Raw Food'}],\n",
              "   'rating': 4.5,\n",
              "   'coordinates': {'latitude': 39.28214, 'longitude': -76.59162},\n",
              "   'transactions': ['delivery'],\n",
              "   'price': '$$$',\n",
              "   'location': {'address1': '1728 Thames St',\n",
              "    'address2': '',\n",
              "    'address3': '',\n",
              "    'city': 'Baltimore',\n",
              "    'zip_code': '21231',\n",
              "    'country': 'US',\n",
              "    'state': 'MD',\n",
              "    'display_address': ['1728 Thames St', 'Baltimore, MD 21231']},\n",
              "   'phone': '+14434497726',\n",
              "   'display_phone': '(443) 449-7726',\n",
              "   'distance': 2090.7127924871847},\n",
              "  {'id': '6am8TZAFnvND52MOz-Yctg',\n",
              "   'alias': 'mamas-on-the-half-shell-baltimore',\n",
              "   'name': \"Mama's On The Half Shell\",\n",
              "   'image_url': 'https://s3-media2.fl.yelpcdn.com/bphoto/HWY8OFLdgmlZt-5Q6ny4ig/o.jpg',\n",
              "   'is_closed': False,\n",
              "   'url': 'https://www.yelp.com/biz/mamas-on-the-half-shell-baltimore?adjust_creative=KJtcufKUS887p24u6rjVIQ&utm_campaign=yelp_api_v3&utm_medium=api_v3_business_search&utm_source=KJtcufKUS887p24u6rjVIQ',\n",
              "   'review_count': 1279,\n",
              "   'categories': [{'alias': 'bars', 'title': 'Bars'},\n",
              "    {'alias': 'seafood', 'title': 'Seafood'},\n",
              "    {'alias': 'breakfast_brunch', 'title': 'Breakfast & Brunch'}],\n",
              "   'rating': 4.0,\n",
              "   'coordinates': {'latitude': 39.27986, 'longitude': -76.5752399},\n",
              "   'transactions': ['delivery', 'pickup'],\n",
              "   'price': '$$',\n",
              "   'location': {'address1': '2901 Odonnell St',\n",
              "    'address2': '',\n",
              "    'address3': '',\n",
              "    'city': 'Baltimore',\n",
              "    'zip_code': '21224',\n",
              "    'country': 'US',\n",
              "    'state': 'MD',\n",
              "    'display_address': ['2901 Odonnell St', 'Baltimore, MD 21224']},\n",
              "   'phone': '+14102763160',\n",
              "   'display_phone': '(410) 276-3160',\n",
              "   'distance': 3328.8257980117924},\n",
              "  {'id': 'ISn7WyGQaFpsVSRSh0NSqg',\n",
              "   'alias': 'sal-and-sons-baltimore',\n",
              "   'name': 'Sal and Sons',\n",
              "   'image_url': 'https://s3-media3.fl.yelpcdn.com/bphoto/LmVL4jMy5GwApoCk2sTlTQ/o.jpg',\n",
              "   'is_closed': False,\n",
              "   'url': 'https://www.yelp.com/biz/sal-and-sons-baltimore?adjust_creative=KJtcufKUS887p24u6rjVIQ&utm_campaign=yelp_api_v3&utm_medium=api_v3_business_search&utm_source=KJtcufKUS887p24u6rjVIQ',\n",
              "   'review_count': 153,\n",
              "   'categories': [{'alias': 'seafood', 'title': 'Seafood'},\n",
              "    {'alias': 'seafoodmarkets', 'title': 'Seafood Markets'}],\n",
              "   'rating': 4.5,\n",
              "   'coordinates': {'latitude': 39.284, 'longitude': -76.59337},\n",
              "   'transactions': ['delivery'],\n",
              "   'price': '$',\n",
              "   'location': {'address1': '1640 Aliceanna St',\n",
              "    'address2': '',\n",
              "    'address3': 'Broadway Market',\n",
              "    'city': 'Baltimore',\n",
              "    'zip_code': '21231',\n",
              "    'country': 'US',\n",
              "    'state': 'MD',\n",
              "    'display_address': ['1640 Aliceanna St',\n",
              "     'Broadway Market',\n",
              "     'Baltimore, MD 21231']},\n",
              "   'phone': '+14106751466',\n",
              "   'display_phone': '(410) 675-1466',\n",
              "   'distance': 1817.406978089581},\n",
              "  {'id': 'UplfpgvI5BfuDjtolDrmsA',\n",
              "   'alias': 'blackwall-hitch-baltimore',\n",
              "   'name': 'Blackwall Hitch',\n",
              "   'image_url': 'https://s3-media3.fl.yelpcdn.com/bphoto/YoB4qYhyi-MM3pz3AxCiKA/o.jpg',\n",
              "   'is_closed': False,\n",
              "   'url': 'https://www.yelp.com/biz/blackwall-hitch-baltimore?adjust_creative=KJtcufKUS887p24u6rjVIQ&utm_campaign=yelp_api_v3&utm_medium=api_v3_business_search&utm_source=KJtcufKUS887p24u6rjVIQ',\n",
              "   'review_count': 510,\n",
              "   'categories': [{'alias': 'newamerican', 'title': 'American (New)'},\n",
              "    {'alias': 'seafood', 'title': 'Seafood'},\n",
              "    {'alias': 'cocktailbars', 'title': 'Cocktail Bars'}],\n",
              "   'rating': 4.0,\n",
              "   'coordinates': {'latitude': 39.2871515492791,\n",
              "    'longitude': -76.60605301975444},\n",
              "   'transactions': [],\n",
              "   'price': '$$',\n",
              "   'location': {'address1': '700 E Pratt St',\n",
              "    'address2': None,\n",
              "    'address3': '',\n",
              "    'city': 'Baltimore',\n",
              "    'zip_code': '21202',\n",
              "    'country': 'US',\n",
              "    'state': 'MD',\n",
              "    'display_address': ['700 E Pratt St', 'Baltimore, MD 21202']},\n",
              "   'phone': '+14437597176',\n",
              "   'display_phone': '(443) 759-7176',\n",
              "   'distance': 1013.2755773246936},\n",
              "  {'id': 'p_XPpHiZbdOccx2jFUgZJA',\n",
              "   'alias': 'the-local-oyster-baltimore',\n",
              "   'name': 'The Local Oyster',\n",
              "   'image_url': 'https://s3-media3.fl.yelpcdn.com/bphoto/u_33aye99FX8ZM_DtIRDng/o.jpg',\n",
              "   'is_closed': False,\n",
              "   'url': 'https://www.yelp.com/biz/the-local-oyster-baltimore?adjust_creative=KJtcufKUS887p24u6rjVIQ&utm_campaign=yelp_api_v3&utm_medium=api_v3_business_search&utm_source=KJtcufKUS887p24u6rjVIQ',\n",
              "   'review_count': 217,\n",
              "   'categories': [{'alias': 'seafood', 'title': 'Seafood'},\n",
              "    {'alias': 'wine_bars', 'title': 'Wine Bars'},\n",
              "    {'alias': 'beerbar', 'title': 'Beer Bar'}],\n",
              "   'rating': 4.0,\n",
              "   'coordinates': {'latitude': 39.2958288, 'longitude': -76.6188912},\n",
              "   'transactions': ['delivery'],\n",
              "   'price': '$$',\n",
              "   'location': {'address1': '520 Park Ave',\n",
              "    'address2': None,\n",
              "    'address3': '',\n",
              "    'city': 'Baltimore',\n",
              "    'zip_code': '21211',\n",
              "    'country': 'US',\n",
              "    'state': 'MD',\n",
              "    'display_address': ['520 Park Ave', 'Baltimore, MD 21211']},\n",
              "   'phone': '+18447482537',\n",
              "   'display_phone': '(844) 748-2537',\n",
              "   'distance': 966.7299411758902},\n",
              "  {'id': 'fdo4pqfSYjQyW5_-rElfew',\n",
              "   'alias': 'faidley-s-seafood-baltimore-2',\n",
              "   'name': 'Faidley’s Seafood',\n",
              "   'image_url': 'https://s3-media4.fl.yelpcdn.com/bphoto/7aCi2UOBeoKp8D20h7lKUA/o.jpg',\n",
              "   'is_closed': False,\n",
              "   'url': 'https://www.yelp.com/biz/faidley-s-seafood-baltimore-2?adjust_creative=KJtcufKUS887p24u6rjVIQ&utm_campaign=yelp_api_v3&utm_medium=api_v3_business_search&utm_source=KJtcufKUS887p24u6rjVIQ',\n",
              "   'review_count': 39,\n",
              "   'categories': [{'alias': 'seafoodmarkets', 'title': 'Seafood Markets'}],\n",
              "   'rating': 4.0,\n",
              "   'coordinates': {'latitude': 39.2915897, 'longitude': -76.6222079},\n",
              "   'transactions': [],\n",
              "   'price': '$',\n",
              "   'location': {'address1': '203 N Paca St',\n",
              "    'address2': '',\n",
              "    'address3': '',\n",
              "    'city': 'Baltimore',\n",
              "    'zip_code': '21201',\n",
              "    'country': 'US',\n",
              "    'state': 'MD',\n",
              "    'display_address': ['203 N Paca St', 'Baltimore, MD 21201']},\n",
              "   'phone': '+14107526461',\n",
              "   'display_phone': '(410) 752-6461',\n",
              "   'distance': 1342.5131042329115},\n",
              "  {'id': 'AjMBJPjnaGIVhBd08gpjvA',\n",
              "   'alias': 'the-water-street-tavern-and-key-west-patio-bar-baltimore',\n",
              "   'name': 'The Water Street Tavern & Key West Patio Bar',\n",
              "   'image_url': 'https://s3-media3.fl.yelpcdn.com/bphoto/dPOyNQ3m45FGAfv9qhFprw/o.jpg',\n",
              "   'is_closed': False,\n",
              "   'url': 'https://www.yelp.com/biz/the-water-street-tavern-and-key-west-patio-bar-baltimore?adjust_creative=KJtcufKUS887p24u6rjVIQ&utm_campaign=yelp_api_v3&utm_medium=api_v3_business_search&utm_source=KJtcufKUS887p24u6rjVIQ',\n",
              "   'review_count': 263,\n",
              "   'categories': [{'alias': 'tradamerican', 'title': 'American (Traditional)'},\n",
              "    {'alias': 'bars', 'title': 'Bars'},\n",
              "    {'alias': 'seafood', 'title': 'Seafood'}],\n",
              "   'rating': 4.0,\n",
              "   'coordinates': {'latitude': 39.288553, 'longitude': -76.613303},\n",
              "   'transactions': ['delivery'],\n",
              "   'price': '$$',\n",
              "   'location': {'address1': '102 Water St',\n",
              "    'address2': '',\n",
              "    'address3': '',\n",
              "    'city': 'Baltimore',\n",
              "    'zip_code': '21202',\n",
              "    'country': 'US',\n",
              "    'state': 'MD',\n",
              "    'display_address': ['102 Water St', 'Baltimore, MD 21202']},\n",
              "   'phone': '+14106059495',\n",
              "   'display_phone': '(410) 605-9495',\n",
              "   'distance': 976.8498942690466},\n",
              "  {'id': '1C8QSqc-erkkyAUywh501A',\n",
              "   'alias': 'angies-seafood-baltimore',\n",
              "   'name': \"Angie's Seafood\",\n",
              "   'image_url': 'https://s3-media1.fl.yelpcdn.com/bphoto/pqkYsm6ONXVkSlozotFWKA/o.jpg',\n",
              "   'is_closed': False,\n",
              "   'url': 'https://www.yelp.com/biz/angies-seafood-baltimore?adjust_creative=KJtcufKUS887p24u6rjVIQ&utm_campaign=yelp_api_v3&utm_medium=api_v3_business_search&utm_source=KJtcufKUS887p24u6rjVIQ',\n",
              "   'review_count': 672,\n",
              "   'categories': [{'alias': 'seafood', 'title': 'Seafood'},\n",
              "    {'alias': 'soup', 'title': 'Soup'},\n",
              "    {'alias': 'salad', 'title': 'Salad'}],\n",
              "   'rating': 4.0,\n",
              "   'coordinates': {'latitude': 39.289207148922245,\n",
              "    'longitude': -76.5927557431986},\n",
              "   'transactions': ['delivery', 'pickup'],\n",
              "   'price': '$$',\n",
              "   'location': {'address1': '1727 E Pratt St',\n",
              "    'address2': None,\n",
              "    'address3': '',\n",
              "    'city': 'Baltimore',\n",
              "    'zip_code': '21231',\n",
              "    'country': 'US',\n",
              "    'state': 'MD',\n",
              "    'display_address': ['1727 E Pratt St', 'Baltimore, MD 21231']},\n",
              "   'phone': '+14103420917',\n",
              "   'display_phone': '(410) 342-0917',\n",
              "   'distance': 1499.0834038738199},\n",
              "  {'id': 'BhnCaqbJtWrC36eVxlewSw',\n",
              "   'alias': 'l-p-steamers-baltimore',\n",
              "   'name': 'L P Steamers',\n",
              "   'image_url': 'https://s3-media3.fl.yelpcdn.com/bphoto/54nSR-_hLFhvL7Wms3uVFA/o.jpg',\n",
              "   'is_closed': False,\n",
              "   'url': 'https://www.yelp.com/biz/l-p-steamers-baltimore?adjust_creative=KJtcufKUS887p24u6rjVIQ&utm_campaign=yelp_api_v3&utm_medium=api_v3_business_search&utm_source=KJtcufKUS887p24u6rjVIQ',\n",
              "   'review_count': 1674,\n",
              "   'categories': [{'alias': 'seafood', 'title': 'Seafood'}],\n",
              "   'rating': 4.0,\n",
              "   'coordinates': {'latitude': 39.27093, 'longitude': -76.59861},\n",
              "   'transactions': ['delivery'],\n",
              "   'price': '$$',\n",
              "   'location': {'address1': '1100 E Fort Ave',\n",
              "    'address2': '',\n",
              "    'address3': '',\n",
              "    'city': 'Baltimore',\n",
              "    'zip_code': '21230',\n",
              "    'country': 'US',\n",
              "    'state': 'MD',\n",
              "    'display_address': ['1100 E Fort Ave', 'Baltimore, MD 21230']},\n",
              "   'phone': '+14105769294',\n",
              "   'display_phone': '(410) 576-9294',\n",
              "   'distance': 2918.3157253958534},\n",
              "  {'id': 'Kh1XJP54vra02w7vS5rRhg',\n",
              "   'alias': 'clock-restoration-baltimore',\n",
              "   'name': 'CLOCK Restoration',\n",
              "   'image_url': 'https://s3-media2.fl.yelpcdn.com/bphoto/Cquy0WVWW6b4-3TWXBppDQ/o.jpg',\n",
              "   'is_closed': False,\n",
              "   'url': 'https://www.yelp.com/biz/clock-restoration-baltimore?adjust_creative=KJtcufKUS887p24u6rjVIQ&utm_campaign=yelp_api_v3&utm_medium=api_v3_business_search&utm_source=KJtcufKUS887p24u6rjVIQ',\n",
              "   'review_count': 30,\n",
              "   'categories': [{'alias': 'cocktailbars', 'title': 'Cocktail Bars'},\n",
              "    {'alias': 'speakeasies', 'title': 'Speakeasies'},\n",
              "    {'alias': 'newamerican', 'title': 'American (New)'}],\n",
              "   'rating': 5.0,\n",
              "   'coordinates': {'latitude': 39.28807, 'longitude': -76.61196},\n",
              "   'transactions': ['delivery', 'pickup'],\n",
              "   'location': {'address1': '31 S Calvert St',\n",
              "    'address2': 'Fl 5',\n",
              "    'address3': 'The QG',\n",
              "    'city': 'Baltimore',\n",
              "    'zip_code': '21202',\n",
              "    'country': 'US',\n",
              "    'state': 'MD',\n",
              "    'display_address': ['31 S Calvert St',\n",
              "     'Fl 5',\n",
              "     'The QG',\n",
              "     'Baltimore, MD 21202']},\n",
              "   'phone': '+14106857428',\n",
              "   'display_phone': '(410) 685-7428',\n",
              "   'distance': 975.3672545303132},\n",
              "  {'id': 'ReNdW79g_1cxrgCJpFn7cA',\n",
              "   'alias': 'b-and-o-american-brasserie-baltimore',\n",
              "   'name': 'B&O American Brasserie',\n",
              "   'image_url': 'https://s3-media2.fl.yelpcdn.com/bphoto/STUupDhSp1i8JWXVrKjwtg/o.jpg',\n",
              "   'is_closed': False,\n",
              "   'url': 'https://www.yelp.com/biz/b-and-o-american-brasserie-baltimore?adjust_creative=KJtcufKUS887p24u6rjVIQ&utm_campaign=yelp_api_v3&utm_medium=api_v3_business_search&utm_source=KJtcufKUS887p24u6rjVIQ',\n",
              "   'review_count': 576,\n",
              "   'categories': [{'alias': 'newamerican', 'title': 'American (New)'},\n",
              "    {'alias': 'brasseries', 'title': 'Brasseries'},\n",
              "    {'alias': 'cocktailbars', 'title': 'Cocktail Bars'}],\n",
              "   'rating': 4.0,\n",
              "   'coordinates': {'latitude': 39.2899436853933,\n",
              "    'longitude': -76.6153600656067},\n",
              "   'transactions': ['delivery', 'pickup'],\n",
              "   'price': '$$',\n",
              "   'location': {'address1': '2 N Charles St',\n",
              "    'address2': '',\n",
              "    'address3': '',\n",
              "    'city': 'Baltimore',\n",
              "    'zip_code': '21201',\n",
              "    'country': 'US',\n",
              "    'state': 'MD',\n",
              "    'display_address': ['2 N Charles St', 'Baltimore, MD 21201']},\n",
              "   'phone': '+14436926172',\n",
              "   'display_phone': '(443) 692-6172',\n",
              "   'distance': 958.642226432693},\n",
              "  {'id': 't0EA_fXewpQWfzWMrpNjIw',\n",
              "   'alias': 'peters-pour-house-baltimore',\n",
              "   'name': \"Peter's Pour House\",\n",
              "   'image_url': 'https://s3-media3.fl.yelpcdn.com/bphoto/A5kRmG6uiu3L1vStpcRK-g/o.jpg',\n",
              "   'is_closed': False,\n",
              "   'url': 'https://www.yelp.com/biz/peters-pour-house-baltimore?adjust_creative=KJtcufKUS887p24u6rjVIQ&utm_campaign=yelp_api_v3&utm_medium=api_v3_business_search&utm_source=KJtcufKUS887p24u6rjVIQ',\n",
              "   'review_count': 228,\n",
              "   'categories': [{'alias': 'tradamerican', 'title': 'American (Traditional)'},\n",
              "    {'alias': 'pubs', 'title': 'Pubs'}],\n",
              "   'rating': 4.0,\n",
              "   'coordinates': {'latitude': 39.288481314045015,\n",
              "    'longitude': -76.61303071251172},\n",
              "   'transactions': ['delivery', 'pickup'],\n",
              "   'price': '$$',\n",
              "   'location': {'address1': '111 Mercer St',\n",
              "    'address2': None,\n",
              "    'address3': '',\n",
              "    'city': 'Baltimore',\n",
              "    'zip_code': '21202',\n",
              "    'country': 'US',\n",
              "    'state': 'MD',\n",
              "    'display_address': ['111 Mercer St', 'Baltimore, MD 21202']},\n",
              "   'phone': '+14105395818',\n",
              "   'display_phone': '(410) 539-5818',\n",
              "   'distance': 972.4361262580103},\n",
              "  {'id': 'NQu0GgFMcAB6ucmhSNpcSQ',\n",
              "   'alias': 'phillips-seafood-baltimore',\n",
              "   'name': 'Phillips Seafood',\n",
              "   'image_url': 'https://s3-media3.fl.yelpcdn.com/bphoto/yZFOdQ7NxVT3DbYHWdZvMw/o.jpg',\n",
              "   'is_closed': False,\n",
              "   'url': 'https://www.yelp.com/biz/phillips-seafood-baltimore?adjust_creative=KJtcufKUS887p24u6rjVIQ&utm_campaign=yelp_api_v3&utm_medium=api_v3_business_search&utm_source=KJtcufKUS887p24u6rjVIQ',\n",
              "   'review_count': 1493,\n",
              "   'categories': [{'alias': 'seafood', 'title': 'Seafood'},\n",
              "    {'alias': 'bars', 'title': 'Bars'}],\n",
              "   'rating': 3.0,\n",
              "   'coordinates': {'latitude': 39.286385925645,\n",
              "    'longitude': -76.6073408694461},\n",
              "   'transactions': ['delivery', 'pickup'],\n",
              "   'price': '$$',\n",
              "   'location': {'address1': '601 E Pratt St',\n",
              "    'address2': '',\n",
              "    'address3': '',\n",
              "    'city': 'Baltimore',\n",
              "    'zip_code': '21202',\n",
              "    'country': 'US',\n",
              "    'state': 'MD',\n",
              "    'display_address': ['601 E Pratt St', 'Baltimore, MD 21202']},\n",
              "   'phone': '+14106856600',\n",
              "   'display_phone': '(410) 685-6600',\n",
              "   'distance': 1089.215502481077},\n",
              "  {'id': 'sUzGTfR81JKDBZlABjgtMQ',\n",
              "   'alias': 'masons-famous-lobster-rolls-baltimore-3',\n",
              "   'name': \"Mason's Famous Lobster Rolls\",\n",
              "   'image_url': 'https://s3-media2.fl.yelpcdn.com/bphoto/639CWjK8ZLXlFlj0f6Lzpg/o.jpg',\n",
              "   'is_closed': False,\n",
              "   'url': 'https://www.yelp.com/biz/masons-famous-lobster-rolls-baltimore-3?adjust_creative=KJtcufKUS887p24u6rjVIQ&utm_campaign=yelp_api_v3&utm_medium=api_v3_business_search&utm_source=KJtcufKUS887p24u6rjVIQ',\n",
              "   'review_count': 171,\n",
              "   'categories': [{'alias': 'seafood', 'title': 'Seafood'},\n",
              "    {'alias': 'salad', 'title': 'Salad'},\n",
              "    {'alias': 'soup', 'title': 'Soup'}],\n",
              "   'rating': 4.0,\n",
              "   'coordinates': {'latitude': 39.28619, 'longitude': -76.61099},\n",
              "   'transactions': ['delivery', 'pickup'],\n",
              "   'price': '$$',\n",
              "   'location': {'address1': '201 E Pratt St',\n",
              "    'address2': None,\n",
              "    'address3': '',\n",
              "    'city': 'Baltimore',\n",
              "    'zip_code': '21202',\n",
              "    'country': 'US',\n",
              "    'state': 'MD',\n",
              "    'display_address': ['201 E Pratt St', 'Baltimore, MD 21202']},\n",
              "   'phone': '+14434539664',\n",
              "   'display_phone': '(443) 453-9664',\n",
              "   'distance': 1144.0157756250915},\n",
              "  {'id': 'SyLoKmaYwq9xCYeI6S6A3g',\n",
              "   'alias': 'fishnet-baltimore-2',\n",
              "   'name': 'Fishnet',\n",
              "   'image_url': 'https://s3-media2.fl.yelpcdn.com/bphoto/B8vj_UVT3CXD4urYvSMAkA/o.jpg',\n",
              "   'is_closed': False,\n",
              "   'url': 'https://www.yelp.com/biz/fishnet-baltimore-2?adjust_creative=KJtcufKUS887p24u6rjVIQ&utm_campaign=yelp_api_v3&utm_medium=api_v3_business_search&utm_source=KJtcufKUS887p24u6rjVIQ',\n",
              "   'review_count': 56,\n",
              "   'categories': [{'alias': 'seafood', 'title': 'Seafood'},\n",
              "    {'alias': 'sandwiches', 'title': 'Sandwiches'},\n",
              "    {'alias': 'fishnchips', 'title': 'Fish & Chips'}],\n",
              "   'rating': 4.0,\n",
              "   'coordinates': {'latitude': 39.29584261917888,\n",
              "    'longitude': -76.61843404731604},\n",
              "   'transactions': ['delivery', 'pickup'],\n",
              "   'price': '$$',\n",
              "   'location': {'address1': '520 Park Ave',\n",
              "    'address2': None,\n",
              "    'address3': '',\n",
              "    'city': 'Baltimore',\n",
              "    'zip_code': '21201',\n",
              "    'country': 'US',\n",
              "    'state': 'MD',\n",
              "    'display_address': ['520 Park Ave', 'Baltimore, MD 21201']},\n",
              "   'phone': '+14438696399',\n",
              "   'display_phone': '(443) 869-6399',\n",
              "   'distance': 927.3610108468021},\n",
              "  {'id': 'g428REEbAhb4Ngumk5bJ6g',\n",
              "   'alias': 'lexington-market-baltimore',\n",
              "   'name': 'Lexington Market',\n",
              "   'image_url': 'https://s3-media4.fl.yelpcdn.com/bphoto/jdx5vz6toA6izWRKFef38w/o.jpg',\n",
              "   'is_closed': False,\n",
              "   'url': 'https://www.yelp.com/biz/lexington-market-baltimore?adjust_creative=KJtcufKUS887p24u6rjVIQ&utm_campaign=yelp_api_v3&utm_medium=api_v3_business_search&utm_source=KJtcufKUS887p24u6rjVIQ',\n",
              "   'review_count': 356,\n",
              "   'categories': [{'alias': 'grocery', 'title': 'Grocery'},\n",
              "    {'alias': 'seafoodmarkets', 'title': 'Seafood Markets'},\n",
              "    {'alias': 'hotdogs', 'title': 'Fast Food'}],\n",
              "   'rating': 3.5,\n",
              "   'coordinates': {'latitude': 39.29198, 'longitude': -76.622342},\n",
              "   'transactions': [],\n",
              "   'price': '$',\n",
              "   'location': {'address1': '400 W Lexington St',\n",
              "    'address2': '',\n",
              "    'address3': '',\n",
              "    'city': 'Baltimore',\n",
              "    'zip_code': '21201',\n",
              "    'country': 'US',\n",
              "    'state': 'MD',\n",
              "    'display_address': ['400 W Lexington St', 'Baltimore, MD 21201']},\n",
              "   'phone': '+14106856169',\n",
              "   'display_phone': '(410) 685-6169',\n",
              "   'distance': 1346.447302500918},\n",
              "  {'id': 'sdNaP8ecfDXzoigTjO2oTg',\n",
              "   'alias': 'blue-moon-cafe-baltimore',\n",
              "   'name': 'Blue Moon Cafe',\n",
              "   'image_url': 'https://s3-media2.fl.yelpcdn.com/bphoto/ZNp-2NHkcm1k27C14naI0A/o.jpg',\n",
              "   'is_closed': False,\n",
              "   'url': 'https://www.yelp.com/biz/blue-moon-cafe-baltimore?adjust_creative=KJtcufKUS887p24u6rjVIQ&utm_campaign=yelp_api_v3&utm_medium=api_v3_business_search&utm_source=KJtcufKUS887p24u6rjVIQ',\n",
              "   'review_count': 2300,\n",
              "   'categories': [{'alias': 'breakfast_brunch', 'title': 'Breakfast & Brunch'},\n",
              "    {'alias': 'tradamerican', 'title': 'American (Traditional)'}],\n",
              "   'rating': 4.0,\n",
              "   'coordinates': {'latitude': 39.283401121424866,\n",
              "    'longitude': -76.59425446098962},\n",
              "   'transactions': ['delivery'],\n",
              "   'price': '$$',\n",
              "   'location': {'address1': '1621 Aliceanna St',\n",
              "    'address2': '',\n",
              "    'address3': '',\n",
              "    'city': 'Baltimore',\n",
              "    'zip_code': '21231',\n",
              "    'country': 'US',\n",
              "    'state': 'MD',\n",
              "    'display_address': ['1621 Aliceanna St', 'Baltimore, MD 21231']},\n",
              "   'phone': '+14105223940',\n",
              "   'display_phone': '(410) 522-3940',\n",
              "   'distance': 1830.4898120887003},\n",
              "  {'id': 'O2ZrDUuqXoluq9cmrFhoyg',\n",
              "   'alias': 'mount-vernon-marketplace-baltimore-2',\n",
              "   'name': 'Mount Vernon Marketplace',\n",
              "   'image_url': 'https://s3-media4.fl.yelpcdn.com/bphoto/jlLM8HIUKnJUEE0rftugCw/o.jpg',\n",
              "   'is_closed': False,\n",
              "   'url': 'https://www.yelp.com/biz/mount-vernon-marketplace-baltimore-2?adjust_creative=KJtcufKUS887p24u6rjVIQ&utm_campaign=yelp_api_v3&utm_medium=api_v3_business_search&utm_source=KJtcufKUS887p24u6rjVIQ',\n",
              "   'review_count': 230,\n",
              "   'categories': [{'alias': 'food_court', 'title': 'Food Court'}],\n",
              "   'rating': 4.5,\n",
              "   'coordinates': {'latitude': 39.295902, 'longitude': -76.618819},\n",
              "   'transactions': [],\n",
              "   'price': '$$',\n",
              "   'location': {'address1': '520 Park Ave',\n",
              "    'address2': '',\n",
              "    'address3': '',\n",
              "    'city': 'Baltimore',\n",
              "    'zip_code': '21201',\n",
              "    'country': 'US',\n",
              "    'state': 'MD',\n",
              "    'display_address': ['520 Park Ave', 'Baltimore, MD 21201']},\n",
              "   'phone': '+14437967393',\n",
              "   'display_phone': '(443) 796-7393',\n",
              "   'distance': 960.226707869424}],\n",
              " 'total': 435,\n",
              " 'region': {'center': {'longitude': -76.607666015625,\n",
              "   'latitude': 39.29617825404647}}}"
            ]
          },
          "metadata": {},
          "execution_count": 35
        }
      ]
    },
    {
      "cell_type": "code",
      "source": [
        "# what are the keys?\n",
        "json_file.keys()"
      ],
      "metadata": {
        "colab": {
          "base_uri": "https://localhost:8080/"
        },
        "id": "nWWdeb7r-eHl",
        "outputId": "a862082b-eb55-4ebd-ab6f-e10e2472ce54"
      },
      "execution_count": null,
      "outputs": [
        {
          "output_type": "execute_result",
          "data": {
            "text/plain": [
              "dict_keys(['businesses', 'total', 'region'])"
            ]
          },
          "metadata": {},
          "execution_count": 13
        }
      ]
    },
    {
      "cell_type": "code",
      "source": [
        "json_file['region']"
      ],
      "metadata": {
        "colab": {
          "base_uri": "https://localhost:8080/"
        },
        "id": "nRJJspSgS8u7",
        "outputId": "16701cf1-c42d-4245-e3f0-553ee2f9312b"
      },
      "execution_count": null,
      "outputs": [
        {
          "output_type": "execute_result",
          "data": {
            "text/plain": [
              "{'center': {'longitude': -76.607666015625, 'latitude': 39.29617825404647}}"
            ]
          },
          "metadata": {},
          "execution_count": 18
        }
      ]
    },
    {
      "cell_type": "code",
      "source": [
        "# what type is region?\n",
        "print(type(json_file['region']))"
      ],
      "metadata": {
        "colab": {
          "base_uri": "https://localhost:8080/"
        },
        "id": "LWYfVq6V-fm-",
        "outputId": "8f79393b-4d36-4120-a5ab-c13cbc1f379e"
      },
      "execution_count": null,
      "outputs": [
        {
          "output_type": "stream",
          "name": "stdout",
          "text": [
            "<class 'dict'>\n"
          ]
        }
      ]
    },
    {
      "cell_type": "code",
      "source": [
        "# what keys are in region?\n",
        "json_file['region'].keys()"
      ],
      "metadata": {
        "colab": {
          "base_uri": "https://localhost:8080/"
        },
        "id": "wMzBs4kA-lwH",
        "outputId": "32cf2a4d-3d29-4f9f-e07d-3a0ec48dce9c"
      },
      "execution_count": null,
      "outputs": [
        {
          "output_type": "execute_result",
          "data": {
            "text/plain": [
              "dict_keys(['center'])"
            ]
          },
          "metadata": {},
          "execution_count": 19
        }
      ]
    },
    {
      "cell_type": "code",
      "source": [
        "# what type is center?\n",
        "type(json_file['region']['center'])"
      ],
      "metadata": {
        "colab": {
          "base_uri": "https://localhost:8080/"
        },
        "id": "DSJZwwAj-pH4",
        "outputId": "0966658a-4671-4397-a22e-1c19251aa634"
      },
      "execution_count": null,
      "outputs": [
        {
          "output_type": "execute_result",
          "data": {
            "text/plain": [
              "dict"
            ]
          },
          "metadata": {},
          "execution_count": 20
        }
      ]
    },
    {
      "cell_type": "code",
      "source": [
        "# what are the keys in center?\n",
        "json_file['region']['center'].keys()"
      ],
      "metadata": {
        "colab": {
          "base_uri": "https://localhost:8080/"
        },
        "id": "lXZrQ0A4-qzm",
        "outputId": "ffaed62c-d432-41f9-f3cd-bfadfcd1d9b9"
      },
      "execution_count": null,
      "outputs": [
        {
          "output_type": "execute_result",
          "data": {
            "text/plain": [
              "dict_keys(['longitude', 'latitude'])"
            ]
          },
          "metadata": {},
          "execution_count": 21
        }
      ]
    },
    {
      "cell_type": "code",
      "source": [
        "# Visualize the whole center dict, since lat and long are likely single values\n",
        "json_file['region']['center']"
      ],
      "metadata": {
        "colab": {
          "base_uri": "https://localhost:8080/"
        },
        "id": "PdbeRY1t-t3G",
        "outputId": "ea54763d-950d-45dc-cefb-5f558b819650"
      },
      "execution_count": null,
      "outputs": [
        {
          "output_type": "execute_result",
          "data": {
            "text/plain": [
              "{'longitude': -76.607666015625, 'latitude': 39.29617825404647}"
            ]
          },
          "metadata": {},
          "execution_count": 22
        }
      ]
    },
    {
      "cell_type": "code",
      "source": [
        "# what is stored under the \"total\" key?\n",
        "type(json_file['total'])"
      ],
      "metadata": {
        "colab": {
          "base_uri": "https://localhost:8080/"
        },
        "id": "JPL14st6-z1H",
        "outputId": "c9e769a0-7b9c-4c30-d1ec-2204cc65446e"
      },
      "execution_count": null,
      "outputs": [
        {
          "output_type": "execute_result",
          "data": {
            "text/plain": [
              "int"
            ]
          },
          "metadata": {},
          "execution_count": 23
        }
      ]
    },
    {
      "cell_type": "code",
      "source": [
        "## what is the value?\n",
        "json_file['total']"
      ],
      "metadata": {
        "colab": {
          "base_uri": "https://localhost:8080/"
        },
        "id": "6U1rG037-85H",
        "outputId": "b2d3792d-0bf2-465f-fcb9-daf6347e694b"
      },
      "execution_count": null,
      "outputs": [
        {
          "output_type": "execute_result",
          "data": {
            "text/plain": [
              "435"
            ]
          },
          "metadata": {},
          "execution_count": 24
        }
      ]
    },
    {
      "cell_type": "code",
      "source": [
        "# what is in the businesses key?\n",
        "type(json_file['businesses'])"
      ],
      "metadata": {
        "colab": {
          "base_uri": "https://localhost:8080/"
        },
        "id": "C6ezjI61--6O",
        "outputId": "1976f92b-2419-4f7e-9fa1-633f2714716f"
      },
      "execution_count": null,
      "outputs": [
        {
          "output_type": "execute_result",
          "data": {
            "text/plain": [
              "list"
            ]
          },
          "metadata": {},
          "execution_count": 25
        }
      ]
    },
    {
      "cell_type": "code",
      "source": [
        "# how long is businesses?\n",
        "len(json_file['businesses'])"
      ],
      "metadata": {
        "colab": {
          "base_uri": "https://localhost:8080/"
        },
        "id": "Qx9TfJn5_Acg",
        "outputId": "fed9bcac-d068-470c-9abf-1bb65bdaf051"
      },
      "execution_count": null,
      "outputs": [
        {
          "output_type": "execute_result",
          "data": {
            "text/plain": [
              "20"
            ]
          },
          "metadata": {},
          "execution_count": 26
        }
      ]
    },
    {
      "cell_type": "code",
      "source": [
        "# what does the first entry of business look like?\n",
        "json_file['businesses'][0]"
      ],
      "metadata": {
        "colab": {
          "base_uri": "https://localhost:8080/"
        },
        "id": "F6hjgrtD_B6E",
        "outputId": "ee279bbf-efd1-4b3e-b147-5ab1f6cb4b20"
      },
      "execution_count": null,
      "outputs": [
        {
          "output_type": "execute_result",
          "data": {
            "text/plain": [
              "{'id': 'D9A33FM394q99o4QtK5YwA',\n",
              " 'alias': 'faidleys-seafood-baltimore-3',\n",
              " 'name': 'Faidleys Seafood',\n",
              " 'image_url': 'https://s3-media3.fl.yelpcdn.com/bphoto/OTjVDCVS7pGopH6GZcfjBA/o.jpg',\n",
              " 'is_closed': False,\n",
              " 'url': 'https://www.yelp.com/biz/faidleys-seafood-baltimore-3?adjust_creative=KJtcufKUS887p24u6rjVIQ&utm_campaign=yelp_api_v3&utm_medium=api_v3_business_search&utm_source=KJtcufKUS887p24u6rjVIQ',\n",
              " 'review_count': 1184,\n",
              " 'categories': [{'alias': 'seafood', 'title': 'Seafood'},\n",
              "  {'alias': 'beerbar', 'title': 'Beer Bar'}],\n",
              " 'rating': 4.0,\n",
              " 'coordinates': {'latitude': 39.291696, 'longitude': -76.62224},\n",
              " 'transactions': ['delivery'],\n",
              " 'price': '$$',\n",
              " 'location': {'address1': '203 N Paca St',\n",
              "  'address2': '',\n",
              "  'address3': '',\n",
              "  'city': 'Baltimore',\n",
              "  'zip_code': '21201',\n",
              "  'country': 'US',\n",
              "  'state': 'MD',\n",
              "  'display_address': ['203 N Paca St', 'Baltimore, MD 21201']},\n",
              " 'phone': '+14107274898',\n",
              " 'display_phone': '(410) 727-4898',\n",
              " 'distance': 1349.560720156645}"
            ]
          },
          "metadata": {},
          "execution_count": 27
        }
      ]
    },
    {
      "cell_type": "code",
      "source": [
        "## what are the keys of the first entry in businesses?\n",
        "json_file['businesses'][0].keys()"
      ],
      "metadata": {
        "colab": {
          "base_uri": "https://localhost:8080/"
        },
        "id": "aHkUINoC_DIi",
        "outputId": "ea1b3359-85e0-47ef-d2b7-73364940e1a6"
      },
      "execution_count": null,
      "outputs": [
        {
          "output_type": "execute_result",
          "data": {
            "text/plain": [
              "dict_keys(['id', 'alias', 'name', 'image_url', 'is_closed', 'url', 'review_count', 'categories', 'rating', 'coordinates', 'transactions', 'price', 'location', 'phone', 'display_phone', 'distance'])"
            ]
          },
          "metadata": {},
          "execution_count": 28
        }
      ]
    },
    {
      "cell_type": "code",
      "source": [
        "## what are the keys of the NEXT entry in businesses? Do they math the first?\n",
        "json_file['businesses'][1].keys()"
      ],
      "metadata": {
        "colab": {
          "base_uri": "https://localhost:8080/"
        },
        "id": "xjbxwr0n_E5u",
        "outputId": "0878d9ff-06b3-44d0-8417-25c51fee1c56"
      },
      "execution_count": null,
      "outputs": [
        {
          "output_type": "execute_result",
          "data": {
            "text/plain": [
              "dict_keys(['id', 'alias', 'name', 'image_url', 'is_closed', 'url', 'review_count', 'categories', 'rating', 'coordinates', 'transactions', 'price', 'location', 'phone', 'display_phone', 'distance'])"
            ]
          },
          "metadata": {},
          "execution_count": 29
        }
      ]
    },
    {
      "cell_type": "code",
      "source": [
        "type(json_file['businesses'])"
      ],
      "metadata": {
        "colab": {
          "base_uri": "https://localhost:8080/"
        },
        "id": "DM1niOjfTlGY",
        "outputId": "e5d75646-6528-4085-ed82-19727b1b47f1"
      },
      "execution_count": null,
      "outputs": [
        {
          "output_type": "execute_result",
          "data": {
            "text/plain": [
              "list"
            ]
          },
          "metadata": {},
          "execution_count": 31
        }
      ]
    },
    {
      "cell_type": "markdown",
      "source": [
        "#### Identifying \"records\"\n",
        "There is a name for the particular type of json format in which we have a list that contains dictionaries with matching keys for each item.\n",
        "\n",
        "* We call these \"records\".\n",
        "\n",
        "It looks like the \"businesses\" key in our json data is a list of records.\n",
        "\n",
        " * Records can be turned into DataFrames for easier inspection!"
      ],
      "metadata": {
        "id": "YYiWdBJS_LaI"
      }
    },
    {
      "cell_type": "code",
      "source": [
        "import pandas as pd\n",
        "df_businesses = pd.DataFrame(json_file['businesses'])\n",
        "df_businesses.head()"
      ],
      "metadata": {
        "colab": {
          "base_uri": "https://localhost:8080/",
          "height": 625
        },
        "id": "DI0q6v44_GM3",
        "outputId": "da99bd27-0014-4cb2-aeda-48f24d767520"
      },
      "execution_count": null,
      "outputs": [
        {
          "output_type": "execute_result",
          "data": {
            "text/plain": [
              "                       id                                 alias  \\\n",
              "0  D9A33FM394q99o4QtK5YwA          faidleys-seafood-baltimore-3   \n",
              "1  u65W69AhbjUlvJJBkEhGNQ        miss-shirleys-cafe-baltimore-9   \n",
              "2  ieS_5zqxDHcWMCm8BKUYbg  thames-street-oyster-house-baltimore   \n",
              "3  6am8TZAFnvND52MOz-Yctg     mamas-on-the-half-shell-baltimore   \n",
              "4  ISn7WyGQaFpsVSRSh0NSqg                sal-and-sons-baltimore   \n",
              "\n",
              "                         name  \\\n",
              "0            Faidleys Seafood   \n",
              "1         Miss Shirley's Cafe   \n",
              "2  Thames Street Oyster House   \n",
              "3    Mama's On The Half Shell   \n",
              "4                Sal and Sons   \n",
              "\n",
              "                                           image_url  is_closed  \\\n",
              "0  https://s3-media3.fl.yelpcdn.com/bphoto/OTjVDC...      False   \n",
              "1  https://s3-media4.fl.yelpcdn.com/bphoto/9FsOyV...      False   \n",
              "2  https://s3-media1.fl.yelpcdn.com/bphoto/9hGjo5...      False   \n",
              "3  https://s3-media2.fl.yelpcdn.com/bphoto/HWY8OF...      False   \n",
              "4  https://s3-media3.fl.yelpcdn.com/bphoto/LmVL4j...      False   \n",
              "\n",
              "                                                 url  review_count  \\\n",
              "0  https://www.yelp.com/biz/faidleys-seafood-balt...          1184   \n",
              "1  https://www.yelp.com/biz/miss-shirleys-cafe-ba...          2919   \n",
              "2  https://www.yelp.com/biz/thames-street-oyster-...          2729   \n",
              "3  https://www.yelp.com/biz/mamas-on-the-half-she...          1279   \n",
              "4  https://www.yelp.com/biz/sal-and-sons-baltimor...           153   \n",
              "\n",
              "                                          categories  rating  \\\n",
              "0  [{'alias': 'seafood', 'title': 'Seafood'}, {'a...     4.0   \n",
              "1  [{'alias': 'breakfast_brunch', 'title': 'Break...     4.0   \n",
              "2  [{'alias': 'seafood', 'title': 'Seafood'}, {'a...     4.5   \n",
              "3  [{'alias': 'bars', 'title': 'Bars'}, {'alias':...     4.0   \n",
              "4  [{'alias': 'seafood', 'title': 'Seafood'}, {'a...     4.5   \n",
              "\n",
              "                                         coordinates        transactions  \\\n",
              "0    {'latitude': 39.291696, 'longitude': -76.62224}          [delivery]   \n",
              "1  {'latitude': 39.2870995, 'longitude': -76.6053...  [delivery, pickup]   \n",
              "2     {'latitude': 39.28214, 'longitude': -76.59162}          [delivery]   \n",
              "3   {'latitude': 39.27986, 'longitude': -76.5752399}  [delivery, pickup]   \n",
              "4       {'latitude': 39.284, 'longitude': -76.59337}          [delivery]   \n",
              "\n",
              "  price                                           location         phone  \\\n",
              "0    $$  {'address1': '203 N Paca St', 'address2': '', ...  +14107274898   \n",
              "1    $$  {'address1': '750 E Pratt St', 'address2': '',...  +14105285373   \n",
              "2   $$$  {'address1': '1728 Thames St', 'address2': '',...  +14434497726   \n",
              "3    $$  {'address1': '2901 Odonnell St', 'address2': '...  +14102763160   \n",
              "4     $  {'address1': '1640 Aliceanna St', 'address2': ...  +14106751466   \n",
              "\n",
              "    display_phone     distance  \n",
              "0  (410) 727-4898  1349.560720  \n",
              "1  (410) 528-5373  1028.736468  \n",
              "2  (443) 449-7726  2090.712792  \n",
              "3  (410) 276-3160  3328.825798  \n",
              "4  (410) 675-1466  1817.406978  "
            ],
            "text/html": [
              "\n",
              "  <div id=\"df-58a07592-45ee-4dff-ae3b-f3c02278c371\" class=\"colab-df-container\">\n",
              "    <div>\n",
              "<style scoped>\n",
              "    .dataframe tbody tr th:only-of-type {\n",
              "        vertical-align: middle;\n",
              "    }\n",
              "\n",
              "    .dataframe tbody tr th {\n",
              "        vertical-align: top;\n",
              "    }\n",
              "\n",
              "    .dataframe thead th {\n",
              "        text-align: right;\n",
              "    }\n",
              "</style>\n",
              "<table border=\"1\" class=\"dataframe\">\n",
              "  <thead>\n",
              "    <tr style=\"text-align: right;\">\n",
              "      <th></th>\n",
              "      <th>id</th>\n",
              "      <th>alias</th>\n",
              "      <th>name</th>\n",
              "      <th>image_url</th>\n",
              "      <th>is_closed</th>\n",
              "      <th>url</th>\n",
              "      <th>review_count</th>\n",
              "      <th>categories</th>\n",
              "      <th>rating</th>\n",
              "      <th>coordinates</th>\n",
              "      <th>transactions</th>\n",
              "      <th>price</th>\n",
              "      <th>location</th>\n",
              "      <th>phone</th>\n",
              "      <th>display_phone</th>\n",
              "      <th>distance</th>\n",
              "    </tr>\n",
              "  </thead>\n",
              "  <tbody>\n",
              "    <tr>\n",
              "      <th>0</th>\n",
              "      <td>D9A33FM394q99o4QtK5YwA</td>\n",
              "      <td>faidleys-seafood-baltimore-3</td>\n",
              "      <td>Faidleys Seafood</td>\n",
              "      <td>https://s3-media3.fl.yelpcdn.com/bphoto/OTjVDC...</td>\n",
              "      <td>False</td>\n",
              "      <td>https://www.yelp.com/biz/faidleys-seafood-balt...</td>\n",
              "      <td>1184</td>\n",
              "      <td>[{'alias': 'seafood', 'title': 'Seafood'}, {'a...</td>\n",
              "      <td>4.0</td>\n",
              "      <td>{'latitude': 39.291696, 'longitude': -76.62224}</td>\n",
              "      <td>[delivery]</td>\n",
              "      <td>$$</td>\n",
              "      <td>{'address1': '203 N Paca St', 'address2': '', ...</td>\n",
              "      <td>+14107274898</td>\n",
              "      <td>(410) 727-4898</td>\n",
              "      <td>1349.560720</td>\n",
              "    </tr>\n",
              "    <tr>\n",
              "      <th>1</th>\n",
              "      <td>u65W69AhbjUlvJJBkEhGNQ</td>\n",
              "      <td>miss-shirleys-cafe-baltimore-9</td>\n",
              "      <td>Miss Shirley's Cafe</td>\n",
              "      <td>https://s3-media4.fl.yelpcdn.com/bphoto/9FsOyV...</td>\n",
              "      <td>False</td>\n",
              "      <td>https://www.yelp.com/biz/miss-shirleys-cafe-ba...</td>\n",
              "      <td>2919</td>\n",
              "      <td>[{'alias': 'breakfast_brunch', 'title': 'Break...</td>\n",
              "      <td>4.0</td>\n",
              "      <td>{'latitude': 39.2870995, 'longitude': -76.6053...</td>\n",
              "      <td>[delivery, pickup]</td>\n",
              "      <td>$$</td>\n",
              "      <td>{'address1': '750 E Pratt St', 'address2': '',...</td>\n",
              "      <td>+14105285373</td>\n",
              "      <td>(410) 528-5373</td>\n",
              "      <td>1028.736468</td>\n",
              "    </tr>\n",
              "    <tr>\n",
              "      <th>2</th>\n",
              "      <td>ieS_5zqxDHcWMCm8BKUYbg</td>\n",
              "      <td>thames-street-oyster-house-baltimore</td>\n",
              "      <td>Thames Street Oyster House</td>\n",
              "      <td>https://s3-media1.fl.yelpcdn.com/bphoto/9hGjo5...</td>\n",
              "      <td>False</td>\n",
              "      <td>https://www.yelp.com/biz/thames-street-oyster-...</td>\n",
              "      <td>2729</td>\n",
              "      <td>[{'alias': 'seafood', 'title': 'Seafood'}, {'a...</td>\n",
              "      <td>4.5</td>\n",
              "      <td>{'latitude': 39.28214, 'longitude': -76.59162}</td>\n",
              "      <td>[delivery]</td>\n",
              "      <td>$$$</td>\n",
              "      <td>{'address1': '1728 Thames St', 'address2': '',...</td>\n",
              "      <td>+14434497726</td>\n",
              "      <td>(443) 449-7726</td>\n",
              "      <td>2090.712792</td>\n",
              "    </tr>\n",
              "    <tr>\n",
              "      <th>3</th>\n",
              "      <td>6am8TZAFnvND52MOz-Yctg</td>\n",
              "      <td>mamas-on-the-half-shell-baltimore</td>\n",
              "      <td>Mama's On The Half Shell</td>\n",
              "      <td>https://s3-media2.fl.yelpcdn.com/bphoto/HWY8OF...</td>\n",
              "      <td>False</td>\n",
              "      <td>https://www.yelp.com/biz/mamas-on-the-half-she...</td>\n",
              "      <td>1279</td>\n",
              "      <td>[{'alias': 'bars', 'title': 'Bars'}, {'alias':...</td>\n",
              "      <td>4.0</td>\n",
              "      <td>{'latitude': 39.27986, 'longitude': -76.5752399}</td>\n",
              "      <td>[delivery, pickup]</td>\n",
              "      <td>$$</td>\n",
              "      <td>{'address1': '2901 Odonnell St', 'address2': '...</td>\n",
              "      <td>+14102763160</td>\n",
              "      <td>(410) 276-3160</td>\n",
              "      <td>3328.825798</td>\n",
              "    </tr>\n",
              "    <tr>\n",
              "      <th>4</th>\n",
              "      <td>ISn7WyGQaFpsVSRSh0NSqg</td>\n",
              "      <td>sal-and-sons-baltimore</td>\n",
              "      <td>Sal and Sons</td>\n",
              "      <td>https://s3-media3.fl.yelpcdn.com/bphoto/LmVL4j...</td>\n",
              "      <td>False</td>\n",
              "      <td>https://www.yelp.com/biz/sal-and-sons-baltimor...</td>\n",
              "      <td>153</td>\n",
              "      <td>[{'alias': 'seafood', 'title': 'Seafood'}, {'a...</td>\n",
              "      <td>4.5</td>\n",
              "      <td>{'latitude': 39.284, 'longitude': -76.59337}</td>\n",
              "      <td>[delivery]</td>\n",
              "      <td>$</td>\n",
              "      <td>{'address1': '1640 Aliceanna St', 'address2': ...</td>\n",
              "      <td>+14106751466</td>\n",
              "      <td>(410) 675-1466</td>\n",
              "      <td>1817.406978</td>\n",
              "    </tr>\n",
              "  </tbody>\n",
              "</table>\n",
              "</div>\n",
              "    <div class=\"colab-df-buttons\">\n",
              "\n",
              "  <div class=\"colab-df-container\">\n",
              "    <button class=\"colab-df-convert\" onclick=\"convertToInteractive('df-58a07592-45ee-4dff-ae3b-f3c02278c371')\"\n",
              "            title=\"Convert this dataframe to an interactive table.\"\n",
              "            style=\"display:none;\">\n",
              "\n",
              "  <svg xmlns=\"http://www.w3.org/2000/svg\" height=\"24px\" viewBox=\"0 -960 960 960\">\n",
              "    <path d=\"M120-120v-720h720v720H120Zm60-500h600v-160H180v160Zm220 220h160v-160H400v160Zm0 220h160v-160H400v160ZM180-400h160v-160H180v160Zm440 0h160v-160H620v160ZM180-180h160v-160H180v160Zm440 0h160v-160H620v160Z\"/>\n",
              "  </svg>\n",
              "    </button>\n",
              "\n",
              "  <style>\n",
              "    .colab-df-container {\n",
              "      display:flex;\n",
              "      gap: 12px;\n",
              "    }\n",
              "\n",
              "    .colab-df-convert {\n",
              "      background-color: #E8F0FE;\n",
              "      border: none;\n",
              "      border-radius: 50%;\n",
              "      cursor: pointer;\n",
              "      display: none;\n",
              "      fill: #1967D2;\n",
              "      height: 32px;\n",
              "      padding: 0 0 0 0;\n",
              "      width: 32px;\n",
              "    }\n",
              "\n",
              "    .colab-df-convert:hover {\n",
              "      background-color: #E2EBFA;\n",
              "      box-shadow: 0px 1px 2px rgba(60, 64, 67, 0.3), 0px 1px 3px 1px rgba(60, 64, 67, 0.15);\n",
              "      fill: #174EA6;\n",
              "    }\n",
              "\n",
              "    .colab-df-buttons div {\n",
              "      margin-bottom: 4px;\n",
              "    }\n",
              "\n",
              "    [theme=dark] .colab-df-convert {\n",
              "      background-color: #3B4455;\n",
              "      fill: #D2E3FC;\n",
              "    }\n",
              "\n",
              "    [theme=dark] .colab-df-convert:hover {\n",
              "      background-color: #434B5C;\n",
              "      box-shadow: 0px 1px 3px 1px rgba(0, 0, 0, 0.15);\n",
              "      filter: drop-shadow(0px 1px 2px rgba(0, 0, 0, 0.3));\n",
              "      fill: #FFFFFF;\n",
              "    }\n",
              "  </style>\n",
              "\n",
              "    <script>\n",
              "      const buttonEl =\n",
              "        document.querySelector('#df-58a07592-45ee-4dff-ae3b-f3c02278c371 button.colab-df-convert');\n",
              "      buttonEl.style.display =\n",
              "        google.colab.kernel.accessAllowed ? 'block' : 'none';\n",
              "\n",
              "      async function convertToInteractive(key) {\n",
              "        const element = document.querySelector('#df-58a07592-45ee-4dff-ae3b-f3c02278c371');\n",
              "        const dataTable =\n",
              "          await google.colab.kernel.invokeFunction('convertToInteractive',\n",
              "                                                    [key], {});\n",
              "        if (!dataTable) return;\n",
              "\n",
              "        const docLinkHtml = 'Like what you see? Visit the ' +\n",
              "          '<a target=\"_blank\" href=https://colab.research.google.com/notebooks/data_table.ipynb>data table notebook</a>'\n",
              "          + ' to learn more about interactive tables.';\n",
              "        element.innerHTML = '';\n",
              "        dataTable['output_type'] = 'display_data';\n",
              "        await google.colab.output.renderOutput(dataTable, element);\n",
              "        const docLink = document.createElement('div');\n",
              "        docLink.innerHTML = docLinkHtml;\n",
              "        element.appendChild(docLink);\n",
              "      }\n",
              "    </script>\n",
              "  </div>\n",
              "\n",
              "\n",
              "<div id=\"df-b7c8c2c2-fee3-4f1d-b98f-7ccab4eee937\">\n",
              "  <button class=\"colab-df-quickchart\" onclick=\"quickchart('df-b7c8c2c2-fee3-4f1d-b98f-7ccab4eee937')\"\n",
              "            title=\"Suggest charts.\"\n",
              "            style=\"display:none;\">\n",
              "\n",
              "<svg xmlns=\"http://www.w3.org/2000/svg\" height=\"24px\"viewBox=\"0 0 24 24\"\n",
              "     width=\"24px\">\n",
              "    <g>\n",
              "        <path d=\"M19 3H5c-1.1 0-2 .9-2 2v14c0 1.1.9 2 2 2h14c1.1 0 2-.9 2-2V5c0-1.1-.9-2-2-2zM9 17H7v-7h2v7zm4 0h-2V7h2v10zm4 0h-2v-4h2v4z\"/>\n",
              "    </g>\n",
              "</svg>\n",
              "  </button>\n",
              "\n",
              "<style>\n",
              "  .colab-df-quickchart {\n",
              "      --bg-color: #E8F0FE;\n",
              "      --fill-color: #1967D2;\n",
              "      --hover-bg-color: #E2EBFA;\n",
              "      --hover-fill-color: #174EA6;\n",
              "      --disabled-fill-color: #AAA;\n",
              "      --disabled-bg-color: #DDD;\n",
              "  }\n",
              "\n",
              "  [theme=dark] .colab-df-quickchart {\n",
              "      --bg-color: #3B4455;\n",
              "      --fill-color: #D2E3FC;\n",
              "      --hover-bg-color: #434B5C;\n",
              "      --hover-fill-color: #FFFFFF;\n",
              "      --disabled-bg-color: #3B4455;\n",
              "      --disabled-fill-color: #666;\n",
              "  }\n",
              "\n",
              "  .colab-df-quickchart {\n",
              "    background-color: var(--bg-color);\n",
              "    border: none;\n",
              "    border-radius: 50%;\n",
              "    cursor: pointer;\n",
              "    display: none;\n",
              "    fill: var(--fill-color);\n",
              "    height: 32px;\n",
              "    padding: 0;\n",
              "    width: 32px;\n",
              "  }\n",
              "\n",
              "  .colab-df-quickchart:hover {\n",
              "    background-color: var(--hover-bg-color);\n",
              "    box-shadow: 0 1px 2px rgba(60, 64, 67, 0.3), 0 1px 3px 1px rgba(60, 64, 67, 0.15);\n",
              "    fill: var(--button-hover-fill-color);\n",
              "  }\n",
              "\n",
              "  .colab-df-quickchart-complete:disabled,\n",
              "  .colab-df-quickchart-complete:disabled:hover {\n",
              "    background-color: var(--disabled-bg-color);\n",
              "    fill: var(--disabled-fill-color);\n",
              "    box-shadow: none;\n",
              "  }\n",
              "\n",
              "  .colab-df-spinner {\n",
              "    border: 2px solid var(--fill-color);\n",
              "    border-color: transparent;\n",
              "    border-bottom-color: var(--fill-color);\n",
              "    animation:\n",
              "      spin 1s steps(1) infinite;\n",
              "  }\n",
              "\n",
              "  @keyframes spin {\n",
              "    0% {\n",
              "      border-color: transparent;\n",
              "      border-bottom-color: var(--fill-color);\n",
              "      border-left-color: var(--fill-color);\n",
              "    }\n",
              "    20% {\n",
              "      border-color: transparent;\n",
              "      border-left-color: var(--fill-color);\n",
              "      border-top-color: var(--fill-color);\n",
              "    }\n",
              "    30% {\n",
              "      border-color: transparent;\n",
              "      border-left-color: var(--fill-color);\n",
              "      border-top-color: var(--fill-color);\n",
              "      border-right-color: var(--fill-color);\n",
              "    }\n",
              "    40% {\n",
              "      border-color: transparent;\n",
              "      border-right-color: var(--fill-color);\n",
              "      border-top-color: var(--fill-color);\n",
              "    }\n",
              "    60% {\n",
              "      border-color: transparent;\n",
              "      border-right-color: var(--fill-color);\n",
              "    }\n",
              "    80% {\n",
              "      border-color: transparent;\n",
              "      border-right-color: var(--fill-color);\n",
              "      border-bottom-color: var(--fill-color);\n",
              "    }\n",
              "    90% {\n",
              "      border-color: transparent;\n",
              "      border-bottom-color: var(--fill-color);\n",
              "    }\n",
              "  }\n",
              "</style>\n",
              "\n",
              "  <script>\n",
              "    async function quickchart(key) {\n",
              "      const quickchartButtonEl =\n",
              "        document.querySelector('#' + key + ' button');\n",
              "      quickchartButtonEl.disabled = true;  // To prevent multiple clicks.\n",
              "      quickchartButtonEl.classList.add('colab-df-spinner');\n",
              "      try {\n",
              "        const charts = await google.colab.kernel.invokeFunction(\n",
              "            'suggestCharts', [key], {});\n",
              "      } catch (error) {\n",
              "        console.error('Error during call to suggestCharts:', error);\n",
              "      }\n",
              "      quickchartButtonEl.classList.remove('colab-df-spinner');\n",
              "      quickchartButtonEl.classList.add('colab-df-quickchart-complete');\n",
              "    }\n",
              "    (() => {\n",
              "      let quickchartButtonEl =\n",
              "        document.querySelector('#df-b7c8c2c2-fee3-4f1d-b98f-7ccab4eee937 button');\n",
              "      quickchartButtonEl.style.display =\n",
              "        google.colab.kernel.accessAllowed ? 'block' : 'none';\n",
              "    })();\n",
              "  </script>\n",
              "</div>\n",
              "    </div>\n",
              "  </div>\n"
            ]
          },
          "metadata": {},
          "execution_count": 30
        }
      ]
    },
    {
      "cell_type": "code",
      "source": [
        "df_businesses[['categories','coordinates','location']].head(3)"
      ],
      "metadata": {
        "id": "a6NfXZyg_SY4",
        "outputId": "59da3586-151e-4ef3-d595-71a566d79ce7",
        "colab": {
          "base_uri": "https://localhost:8080/",
          "height": 143
        }
      },
      "execution_count": null,
      "outputs": [
        {
          "output_type": "execute_result",
          "data": {
            "text/plain": [
              "                                          categories  \\\n",
              "0  [{'alias': 'seafood', 'title': 'Seafood'}, {'a...   \n",
              "1  [{'alias': 'breakfast_brunch', 'title': 'Break...   \n",
              "2  [{'alias': 'seafood', 'title': 'Seafood'}, {'a...   \n",
              "\n",
              "                                         coordinates  \\\n",
              "0    {'latitude': 39.291696, 'longitude': -76.62224}   \n",
              "1  {'latitude': 39.2870995, 'longitude': -76.6053...   \n",
              "2     {'latitude': 39.28214, 'longitude': -76.59162}   \n",
              "\n",
              "                                            location  \n",
              "0  {'address1': '203 N Paca St', 'address2': '', ...  \n",
              "1  {'address1': '750 E Pratt St', 'address2': '',...  \n",
              "2  {'address1': '1728 Thames St', 'address2': '',...  "
            ],
            "text/html": [
              "\n",
              "  <div id=\"df-4e556237-a6ea-47be-9af0-be3c56c8912c\" class=\"colab-df-container\">\n",
              "    <div>\n",
              "<style scoped>\n",
              "    .dataframe tbody tr th:only-of-type {\n",
              "        vertical-align: middle;\n",
              "    }\n",
              "\n",
              "    .dataframe tbody tr th {\n",
              "        vertical-align: top;\n",
              "    }\n",
              "\n",
              "    .dataframe thead th {\n",
              "        text-align: right;\n",
              "    }\n",
              "</style>\n",
              "<table border=\"1\" class=\"dataframe\">\n",
              "  <thead>\n",
              "    <tr style=\"text-align: right;\">\n",
              "      <th></th>\n",
              "      <th>categories</th>\n",
              "      <th>coordinates</th>\n",
              "      <th>location</th>\n",
              "    </tr>\n",
              "  </thead>\n",
              "  <tbody>\n",
              "    <tr>\n",
              "      <th>0</th>\n",
              "      <td>[{'alias': 'seafood', 'title': 'Seafood'}, {'a...</td>\n",
              "      <td>{'latitude': 39.291696, 'longitude': -76.62224}</td>\n",
              "      <td>{'address1': '203 N Paca St', 'address2': '', ...</td>\n",
              "    </tr>\n",
              "    <tr>\n",
              "      <th>1</th>\n",
              "      <td>[{'alias': 'breakfast_brunch', 'title': 'Break...</td>\n",
              "      <td>{'latitude': 39.2870995, 'longitude': -76.6053...</td>\n",
              "      <td>{'address1': '750 E Pratt St', 'address2': '',...</td>\n",
              "    </tr>\n",
              "    <tr>\n",
              "      <th>2</th>\n",
              "      <td>[{'alias': 'seafood', 'title': 'Seafood'}, {'a...</td>\n",
              "      <td>{'latitude': 39.28214, 'longitude': -76.59162}</td>\n",
              "      <td>{'address1': '1728 Thames St', 'address2': '',...</td>\n",
              "    </tr>\n",
              "  </tbody>\n",
              "</table>\n",
              "</div>\n",
              "    <div class=\"colab-df-buttons\">\n",
              "\n",
              "  <div class=\"colab-df-container\">\n",
              "    <button class=\"colab-df-convert\" onclick=\"convertToInteractive('df-4e556237-a6ea-47be-9af0-be3c56c8912c')\"\n",
              "            title=\"Convert this dataframe to an interactive table.\"\n",
              "            style=\"display:none;\">\n",
              "\n",
              "  <svg xmlns=\"http://www.w3.org/2000/svg\" height=\"24px\" viewBox=\"0 -960 960 960\">\n",
              "    <path d=\"M120-120v-720h720v720H120Zm60-500h600v-160H180v160Zm220 220h160v-160H400v160Zm0 220h160v-160H400v160ZM180-400h160v-160H180v160Zm440 0h160v-160H620v160ZM180-180h160v-160H180v160Zm440 0h160v-160H620v160Z\"/>\n",
              "  </svg>\n",
              "    </button>\n",
              "\n",
              "  <style>\n",
              "    .colab-df-container {\n",
              "      display:flex;\n",
              "      gap: 12px;\n",
              "    }\n",
              "\n",
              "    .colab-df-convert {\n",
              "      background-color: #E8F0FE;\n",
              "      border: none;\n",
              "      border-radius: 50%;\n",
              "      cursor: pointer;\n",
              "      display: none;\n",
              "      fill: #1967D2;\n",
              "      height: 32px;\n",
              "      padding: 0 0 0 0;\n",
              "      width: 32px;\n",
              "    }\n",
              "\n",
              "    .colab-df-convert:hover {\n",
              "      background-color: #E2EBFA;\n",
              "      box-shadow: 0px 1px 2px rgba(60, 64, 67, 0.3), 0px 1px 3px 1px rgba(60, 64, 67, 0.15);\n",
              "      fill: #174EA6;\n",
              "    }\n",
              "\n",
              "    .colab-df-buttons div {\n",
              "      margin-bottom: 4px;\n",
              "    }\n",
              "\n",
              "    [theme=dark] .colab-df-convert {\n",
              "      background-color: #3B4455;\n",
              "      fill: #D2E3FC;\n",
              "    }\n",
              "\n",
              "    [theme=dark] .colab-df-convert:hover {\n",
              "      background-color: #434B5C;\n",
              "      box-shadow: 0px 1px 3px 1px rgba(0, 0, 0, 0.15);\n",
              "      filter: drop-shadow(0px 1px 2px rgba(0, 0, 0, 0.3));\n",
              "      fill: #FFFFFF;\n",
              "    }\n",
              "  </style>\n",
              "\n",
              "    <script>\n",
              "      const buttonEl =\n",
              "        document.querySelector('#df-4e556237-a6ea-47be-9af0-be3c56c8912c button.colab-df-convert');\n",
              "      buttonEl.style.display =\n",
              "        google.colab.kernel.accessAllowed ? 'block' : 'none';\n",
              "\n",
              "      async function convertToInteractive(key) {\n",
              "        const element = document.querySelector('#df-4e556237-a6ea-47be-9af0-be3c56c8912c');\n",
              "        const dataTable =\n",
              "          await google.colab.kernel.invokeFunction('convertToInteractive',\n",
              "                                                    [key], {});\n",
              "        if (!dataTable) return;\n",
              "\n",
              "        const docLinkHtml = 'Like what you see? Visit the ' +\n",
              "          '<a target=\"_blank\" href=https://colab.research.google.com/notebooks/data_table.ipynb>data table notebook</a>'\n",
              "          + ' to learn more about interactive tables.';\n",
              "        element.innerHTML = '';\n",
              "        dataTable['output_type'] = 'display_data';\n",
              "        await google.colab.output.renderOutput(dataTable, element);\n",
              "        const docLink = document.createElement('div');\n",
              "        docLink.innerHTML = docLinkHtml;\n",
              "        element.appendChild(docLink);\n",
              "      }\n",
              "    </script>\n",
              "  </div>\n",
              "\n",
              "\n",
              "<div id=\"df-c61dbad4-2691-4aaf-9d47-af7204ea0fac\">\n",
              "  <button class=\"colab-df-quickchart\" onclick=\"quickchart('df-c61dbad4-2691-4aaf-9d47-af7204ea0fac')\"\n",
              "            title=\"Suggest charts.\"\n",
              "            style=\"display:none;\">\n",
              "\n",
              "<svg xmlns=\"http://www.w3.org/2000/svg\" height=\"24px\"viewBox=\"0 0 24 24\"\n",
              "     width=\"24px\">\n",
              "    <g>\n",
              "        <path d=\"M19 3H5c-1.1 0-2 .9-2 2v14c0 1.1.9 2 2 2h14c1.1 0 2-.9 2-2V5c0-1.1-.9-2-2-2zM9 17H7v-7h2v7zm4 0h-2V7h2v10zm4 0h-2v-4h2v4z\"/>\n",
              "    </g>\n",
              "</svg>\n",
              "  </button>\n",
              "\n",
              "<style>\n",
              "  .colab-df-quickchart {\n",
              "      --bg-color: #E8F0FE;\n",
              "      --fill-color: #1967D2;\n",
              "      --hover-bg-color: #E2EBFA;\n",
              "      --hover-fill-color: #174EA6;\n",
              "      --disabled-fill-color: #AAA;\n",
              "      --disabled-bg-color: #DDD;\n",
              "  }\n",
              "\n",
              "  [theme=dark] .colab-df-quickchart {\n",
              "      --bg-color: #3B4455;\n",
              "      --fill-color: #D2E3FC;\n",
              "      --hover-bg-color: #434B5C;\n",
              "      --hover-fill-color: #FFFFFF;\n",
              "      --disabled-bg-color: #3B4455;\n",
              "      --disabled-fill-color: #666;\n",
              "  }\n",
              "\n",
              "  .colab-df-quickchart {\n",
              "    background-color: var(--bg-color);\n",
              "    border: none;\n",
              "    border-radius: 50%;\n",
              "    cursor: pointer;\n",
              "    display: none;\n",
              "    fill: var(--fill-color);\n",
              "    height: 32px;\n",
              "    padding: 0;\n",
              "    width: 32px;\n",
              "  }\n",
              "\n",
              "  .colab-df-quickchart:hover {\n",
              "    background-color: var(--hover-bg-color);\n",
              "    box-shadow: 0 1px 2px rgba(60, 64, 67, 0.3), 0 1px 3px 1px rgba(60, 64, 67, 0.15);\n",
              "    fill: var(--button-hover-fill-color);\n",
              "  }\n",
              "\n",
              "  .colab-df-quickchart-complete:disabled,\n",
              "  .colab-df-quickchart-complete:disabled:hover {\n",
              "    background-color: var(--disabled-bg-color);\n",
              "    fill: var(--disabled-fill-color);\n",
              "    box-shadow: none;\n",
              "  }\n",
              "\n",
              "  .colab-df-spinner {\n",
              "    border: 2px solid var(--fill-color);\n",
              "    border-color: transparent;\n",
              "    border-bottom-color: var(--fill-color);\n",
              "    animation:\n",
              "      spin 1s steps(1) infinite;\n",
              "  }\n",
              "\n",
              "  @keyframes spin {\n",
              "    0% {\n",
              "      border-color: transparent;\n",
              "      border-bottom-color: var(--fill-color);\n",
              "      border-left-color: var(--fill-color);\n",
              "    }\n",
              "    20% {\n",
              "      border-color: transparent;\n",
              "      border-left-color: var(--fill-color);\n",
              "      border-top-color: var(--fill-color);\n",
              "    }\n",
              "    30% {\n",
              "      border-color: transparent;\n",
              "      border-left-color: var(--fill-color);\n",
              "      border-top-color: var(--fill-color);\n",
              "      border-right-color: var(--fill-color);\n",
              "    }\n",
              "    40% {\n",
              "      border-color: transparent;\n",
              "      border-right-color: var(--fill-color);\n",
              "      border-top-color: var(--fill-color);\n",
              "    }\n",
              "    60% {\n",
              "      border-color: transparent;\n",
              "      border-right-color: var(--fill-color);\n",
              "    }\n",
              "    80% {\n",
              "      border-color: transparent;\n",
              "      border-right-color: var(--fill-color);\n",
              "      border-bottom-color: var(--fill-color);\n",
              "    }\n",
              "    90% {\n",
              "      border-color: transparent;\n",
              "      border-bottom-color: var(--fill-color);\n",
              "    }\n",
              "  }\n",
              "</style>\n",
              "\n",
              "  <script>\n",
              "    async function quickchart(key) {\n",
              "      const quickchartButtonEl =\n",
              "        document.querySelector('#' + key + ' button');\n",
              "      quickchartButtonEl.disabled = true;  // To prevent multiple clicks.\n",
              "      quickchartButtonEl.classList.add('colab-df-spinner');\n",
              "      try {\n",
              "        const charts = await google.colab.kernel.invokeFunction(\n",
              "            'suggestCharts', [key], {});\n",
              "      } catch (error) {\n",
              "        console.error('Error during call to suggestCharts:', error);\n",
              "      }\n",
              "      quickchartButtonEl.classList.remove('colab-df-spinner');\n",
              "      quickchartButtonEl.classList.add('colab-df-quickchart-complete');\n",
              "    }\n",
              "    (() => {\n",
              "      let quickchartButtonEl =\n",
              "        document.querySelector('#df-c61dbad4-2691-4aaf-9d47-af7204ea0fac button');\n",
              "      quickchartButtonEl.style.display =\n",
              "        google.colab.kernel.accessAllowed ? 'block' : 'none';\n",
              "    })();\n",
              "  </script>\n",
              "</div>\n",
              "    </div>\n",
              "  </div>\n"
            ]
          },
          "metadata": {},
          "execution_count": 32
        }
      ]
    },
    {
      "cell_type": "code",
      "source": [
        "# df = pd.read_json(\"example_yelp_results.json\")\n",
        "\n",
        "# df.head()"
      ],
      "metadata": {
        "id": "5Q-3bz8q_UdM"
      },
      "execution_count": null,
      "outputs": []
    },
    {
      "cell_type": "code",
      "source": [],
      "metadata": {
        "id": "lbQ0kZCwT-va"
      },
      "execution_count": null,
      "outputs": []
    }
  ]
}